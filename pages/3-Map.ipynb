{
 "cells": [
  {
   "attachments": {},
   "cell_type": "markdown",
   "metadata": {},
   "source": [
    "# I. Data Analytic Tool/Package Used"
   ]
  },
  {
   "cell_type": "code",
   "execution_count": 1,
   "metadata": {},
   "outputs": [],
   "source": [
    "import pandas as pd\n",
    "import numpy as np\n",
    "import urllib.request\n",
    "import zipfile\n",
    "import random\n",
    "import itertools\n",
    "import math"
   ]
  },
  {
   "cell_type": "code",
   "execution_count": 2,
   "metadata": {},
   "outputs": [],
   "source": [
    "import shapefile\n",
    "from shapely.geometry import Polygon\n",
    "from descartes.patch import PolygonPatch\n",
    "import matplotlib as mpl\n",
    "import matplotlib.pyplot as plt\n",
    "plt.style.use('ggplot')\n",
    "%matplotlib inline"
   ]
  },
  {
   "cell_type": "code",
   "execution_count": 3,
   "metadata": {},
   "outputs": [],
   "source": [
    "import geopandas as gpd\n",
    "import shapefile"
   ]
  },
  {
   "attachments": {},
   "cell_type": "markdown",
   "metadata": {},
   "source": [
    "# II Dataset"
   ]
  },
  {
   "cell_type": "code",
   "execution_count": 22,
   "metadata": {},
   "outputs": [],
   "source": [
    "# Download the Trip Record Data\n",
    "# for month in range(11,12):\n",
    "#     urllib.request.urlretrieve(\"https://s3.amazonaws.com/nyc-tlc/trip+data/\"+ \\\n",
    "#                                \"yellow_tripdata_2019-{0:0=2d}.csv\".format(month), \n",
    "#                                \"nyc.2019-{0:0=2d}.csv\".format(month))\n",
    "\n",
    "# Download the location Data\n",
    "urllib.request.urlretrieve(\"https://d37ci6vzurychx.cloudfront.net/misc/taxi_zones.zip\", \"taxi_zones.zip\")\n",
    "with zipfile.ZipFile(\"taxi_zones.zip\",\"r\") as zip_ref:\n",
    "    zip_ref.extractall(\"./shape\")"
   ]
  },
  {
   "cell_type": "code",
   "execution_count": 12,
   "metadata": {},
   "outputs": [],
   "source": [
    "# import shapefile\n",
    "\n",
    "# # Read the shapefile\n",
    "# sf = shapefile.Reader(\"shape/taxi_zones.shp\")\n",
    "\n",
    "# fields_name = [field[0] for field in sf.fields[1:]]\n",
    "# shp_dic = dict(zip(fields_name, list(range(len(fields_name)))))\n",
    "# attributes = sf.records()\n",
    "# shp_attr = [dict(zip(fields_name, attr)) for attr in attributes]\n",
    "\n",
    "# df_loc = pd.DataFrame(shp_attr)"
   ]
  },
  {
   "cell_type": "code",
   "execution_count": 28,
   "metadata": {},
   "outputs": [
    {
     "data": {
      "text/html": [
       "<div>\n",
       "<style scoped>\n",
       "    .dataframe tbody tr th:only-of-type {\n",
       "        vertical-align: middle;\n",
       "    }\n",
       "\n",
       "    .dataframe tbody tr th {\n",
       "        vertical-align: top;\n",
       "    }\n",
       "\n",
       "    .dataframe thead th {\n",
       "        text-align: right;\n",
       "    }\n",
       "</style>\n",
       "<table border=\"1\" class=\"dataframe\">\n",
       "  <thead>\n",
       "    <tr style=\"text-align: right;\">\n",
       "      <th></th>\n",
       "      <th>OBJECTID</th>\n",
       "      <th>Shape_Leng</th>\n",
       "      <th>Shape_Area</th>\n",
       "      <th>zone</th>\n",
       "      <th>LocationID</th>\n",
       "      <th>borough</th>\n",
       "      <th>longitude</th>\n",
       "      <th>latitude</th>\n",
       "    </tr>\n",
       "  </thead>\n",
       "  <tbody>\n",
       "    <tr>\n",
       "      <th>0</th>\n",
       "      <td>1</td>\n",
       "      <td>0.116357</td>\n",
       "      <td>0.000782</td>\n",
       "      <td>Newark Airport</td>\n",
       "      <td>1</td>\n",
       "      <td>EWR</td>\n",
       "      <td>9.366817e+05</td>\n",
       "      <td>190522.130278</td>\n",
       "    </tr>\n",
       "    <tr>\n",
       "      <th>1</th>\n",
       "      <td>2</td>\n",
       "      <td>0.433470</td>\n",
       "      <td>0.004866</td>\n",
       "      <td>Jamaica Bay</td>\n",
       "      <td>2</td>\n",
       "      <td>Queens</td>\n",
       "      <td>1.033536e+06</td>\n",
       "      <td>161853.982300</td>\n",
       "    </tr>\n",
       "    <tr>\n",
       "      <th>2</th>\n",
       "      <td>3</td>\n",
       "      <td>0.084341</td>\n",
       "      <td>0.000314</td>\n",
       "      <td>Allerton/Pelham Gardens</td>\n",
       "      <td>3</td>\n",
       "      <td>Bronx</td>\n",
       "      <td>1.027136e+06</td>\n",
       "      <td>254730.010849</td>\n",
       "    </tr>\n",
       "    <tr>\n",
       "      <th>3</th>\n",
       "      <td>4</td>\n",
       "      <td>0.043567</td>\n",
       "      <td>0.000112</td>\n",
       "      <td>Alphabet City</td>\n",
       "      <td>4</td>\n",
       "      <td>Manhattan</td>\n",
       "      <td>9.904240e+05</td>\n",
       "      <td>203100.040432</td>\n",
       "    </tr>\n",
       "    <tr>\n",
       "      <th>4</th>\n",
       "      <td>5</td>\n",
       "      <td>0.092146</td>\n",
       "      <td>0.000498</td>\n",
       "      <td>Arden Heights</td>\n",
       "      <td>5</td>\n",
       "      <td>Staten Island</td>\n",
       "      <td>9.321332e+05</td>\n",
       "      <td>139954.541936</td>\n",
       "    </tr>\n",
       "  </tbody>\n",
       "</table>\n",
       "</div>"
      ],
      "text/plain": [
       "   OBJECTID  Shape_Leng  Shape_Area                     zone  LocationID  \\\n",
       "0         1    0.116357    0.000782           Newark Airport           1   \n",
       "1         2    0.433470    0.004866              Jamaica Bay           2   \n",
       "2         3    0.084341    0.000314  Allerton/Pelham Gardens           3   \n",
       "3         4    0.043567    0.000112            Alphabet City           4   \n",
       "4         5    0.092146    0.000498            Arden Heights           5   \n",
       "\n",
       "         borough     longitude       latitude  \n",
       "0            EWR  9.366817e+05  190522.130278  \n",
       "1         Queens  1.033536e+06  161853.982300  \n",
       "2          Bronx  1.027136e+06  254730.010849  \n",
       "3      Manhattan  9.904240e+05  203100.040432  \n",
       "4  Staten Island  9.321332e+05  139954.541936  "
      ]
     },
     "execution_count": 28,
     "metadata": {},
     "output_type": "execute_result"
    }
   ],
   "source": [
    "sf = shapefile.Reader(\"shape/taxi_zones.shp\")\n",
    "fields_name = [field[0] for field in sf.fields[1:]]\n",
    "shp_dic = dict(zip(fields_name, list(range(len(fields_name)))))\n",
    "attributes = sf.records()\n",
    "shp_attr = [dict(zip(fields_name, attr)) for attr in attributes]\n",
    "\n",
    "df_loc = pd.DataFrame(shp_attr).join(get_lat_lon(sf).set_index(\"LocationID\"), on=\"LocationID\")\n",
    "df_loc.head()"
   ]
  },
  {
   "cell_type": "code",
   "execution_count": 15,
   "metadata": {},
   "outputs": [],
   "source": [
    "# def draw_region_map(ax, sf):\n",
    "#     sf_df = gpd.read_file(sf)\n",
    "#     sf_df.plot(ax=ax, color='white', edgecolor='black')\n",
    "\n",
    "# def draw_zone_map(ax, sf):\n",
    "#     sf_df = gpd.read_file(sf)\n",
    "#     sf_df.plot(ax=ax, color='white', edgecolor='black')\n"
   ]
  },
  {
   "cell_type": "code",
   "execution_count": 29,
   "metadata": {},
   "outputs": [
    {
     "ename": "AttributeError",
     "evalue": "'str' object has no attribute 'shapeRecords'",
     "output_type": "error",
     "traceback": [
      "\u001b[0;31m---------------------------------------------------------------------------\u001b[0m",
      "\u001b[0;31mAttributeError\u001b[0m                            Traceback (most recent call last)",
      "Cell \u001b[0;32mIn[29], line 26\u001b[0m\n\u001b[1;32m     24\u001b[0m ax \u001b[39m=\u001b[39m plt\u001b[39m.\u001b[39msubplot(\u001b[39m1\u001b[39m, \u001b[39m2\u001b[39m, \u001b[39m1\u001b[39m)\n\u001b[1;32m     25\u001b[0m ax\u001b[39m.\u001b[39mset_title(\u001b[39m\"\u001b[39m\u001b[39mBoroughs in NYC\u001b[39m\u001b[39m\"\u001b[39m)\n\u001b[0;32m---> 26\u001b[0m draw_region_map(ax, sf)\n\u001b[1;32m     27\u001b[0m ax \u001b[39m=\u001b[39m plt\u001b[39m.\u001b[39msubplot(\u001b[39m1\u001b[39m, \u001b[39m2\u001b[39m, \u001b[39m2\u001b[39m)\n\u001b[1;32m     28\u001b[0m ax\u001b[39m.\u001b[39mset_title(\u001b[39m\"\u001b[39m\u001b[39mZones in NYC\u001b[39m\u001b[39m\"\u001b[39m)\n",
      "Cell \u001b[0;32mIn[25], line 19\u001b[0m, in \u001b[0;36mdraw_region_map\u001b[0;34m(ax, sf, heat)\u001b[0m\n\u001b[1;32m     13\u001b[0m     \u001b[39m#sm = plt.cm.ScalarMappable(cmap=cm, norm=norm)\u001b[39;00m\n\u001b[1;32m     14\u001b[0m     \u001b[39m#sm.set_array([])\u001b[39;00m\n\u001b[1;32m     15\u001b[0m     \u001b[39m#plt.colorbar(sm, ticks=np.linspace(min(heat.values()),max(heat.values()),8), \\\u001b[39;00m\n\u001b[1;32m     16\u001b[0m     \u001b[39m#             boundaries=np.arange(min(heat.values())-10,max(heat.values())+10,.1))\u001b[39;00m\n\u001b[1;32m     18\u001b[0m ax\u001b[39m.\u001b[39mset_facecolor(ocean)\n\u001b[0;32m---> 19\u001b[0m \u001b[39mfor\u001b[39;00m sr \u001b[39min\u001b[39;00m sf\u001b[39m.\u001b[39;49mshapeRecords():\n\u001b[1;32m     20\u001b[0m     shape \u001b[39m=\u001b[39m sr\u001b[39m.\u001b[39mshape\n\u001b[1;32m     21\u001b[0m     rec \u001b[39m=\u001b[39m sr\u001b[39m.\u001b[39mrecord\n",
      "\u001b[0;31mAttributeError\u001b[0m: 'str' object has no attribute 'shapeRecords'"
     ]
    },
    {
     "data": {
      "image/png": "[encoded data removed]",
      "text/plain": [
       "<Figure size 1500x800 with 2 Axes>"
      ]
     },
     "metadata": {},
     "output_type": "display_data"
    }
   ],
   "source": [
    "import shapefile\n",
    "import pandas as pd\n",
    "import geopandas as gpd\n",
    "import matplotlib.pyplot as plt\n",
    "\n",
    "# Read the shapefile\n",
    "sf = \"shape/taxi_zones.shp\"\n",
    "fields_name = [field[0] for field in shapefile.Reader(sf).fields[1:]]\n",
    "shp_dic = dict(zip(fields_name, list(range(len(fields_name)))))\n",
    "attributes = shapefile.Reader(sf).records()\n",
    "shp_attr = [dict(zip(fields_name, attr)) for attr in attributes]\n",
    "\n",
    "df_loc = pd.DataFrame(shp_attr)\n",
    "\n",
    "# def draw_region_map(ax, sf):\n",
    "#     sf_df = gpd.read_file(sf)\n",
    "#     sf_df.plot(ax=ax, color='white', edgecolor='black')\n",
    "\n",
    "# def draw_zone_map(ax, sf):\n",
    "#     sf_df = gpd.read_file(sf)\n",
    "#     sf_df.plot(ax=ax, color='white', edgecolor='black')\n",
    "\n",
    "fig, ax = plt.subplots(nrows=1, ncols=2, figsize=(15,8))\n",
    "ax = plt.subplot(1, 2, 1)\n",
    "ax.set_title(\"Boroughs in NYC\")\n",
    "draw_region_map(ax, sf)\n",
    "ax = plt.subplot(1, 2, 2)\n",
    "ax.set_title(\"Zones in NYC\")\n",
    "draw_zone_map(ax, sf)\n",
    "\n"
   ]
  },
  {
   "cell_type": "code",
   "execution_count": 30,
   "metadata": {},
   "outputs": [
    {
     "ename": "AttributeError",
     "evalue": "'str' object has no attribute 'shapeRecords'",
     "output_type": "error",
     "traceback": [
      "\u001b[0;31m---------------------------------------------------------------------------\u001b[0m",
      "\u001b[0;31mAttributeError\u001b[0m                            Traceback (most recent call last)",
      "Cell \u001b[0;32mIn[30], line 29\u001b[0m\n\u001b[1;32m     27\u001b[0m fig, ax \u001b[39m=\u001b[39m plt\u001b[39m.\u001b[39msubplots(figsize\u001b[39m=\u001b[39m(\u001b[39m12\u001b[39m, \u001b[39m8\u001b[39m))\n\u001b[1;32m     28\u001b[0m ax\u001b[39m.\u001b[39mset_title(\u001b[39m'\u001b[39m\u001b[39mBoroughs in NYC\u001b[39m\u001b[39m'\u001b[39m)\n\u001b[0;32m---> 29\u001b[0m draw_region_map(ax, sf)\n\u001b[1;32m     30\u001b[0m plt\u001b[39m.\u001b[39mshow()\n",
      "Cell \u001b[0;32mIn[25], line 19\u001b[0m, in \u001b[0;36mdraw_region_map\u001b[0;34m(ax, sf, heat)\u001b[0m\n\u001b[1;32m     13\u001b[0m     \u001b[39m#sm = plt.cm.ScalarMappable(cmap=cm, norm=norm)\u001b[39;00m\n\u001b[1;32m     14\u001b[0m     \u001b[39m#sm.set_array([])\u001b[39;00m\n\u001b[1;32m     15\u001b[0m     \u001b[39m#plt.colorbar(sm, ticks=np.linspace(min(heat.values()),max(heat.values()),8), \\\u001b[39;00m\n\u001b[1;32m     16\u001b[0m     \u001b[39m#             boundaries=np.arange(min(heat.values())-10,max(heat.values())+10,.1))\u001b[39;00m\n\u001b[1;32m     18\u001b[0m ax\u001b[39m.\u001b[39mset_facecolor(ocean)\n\u001b[0;32m---> 19\u001b[0m \u001b[39mfor\u001b[39;00m sr \u001b[39min\u001b[39;00m sf\u001b[39m.\u001b[39;49mshapeRecords():\n\u001b[1;32m     20\u001b[0m     shape \u001b[39m=\u001b[39m sr\u001b[39m.\u001b[39mshape\n\u001b[1;32m     21\u001b[0m     rec \u001b[39m=\u001b[39m sr\u001b[39m.\u001b[39mrecord\n",
      "\u001b[0;31mAttributeError\u001b[0m: 'str' object has no attribute 'shapeRecords'"
     ]
    },
    {
     "data": {
      "image/png": "[encoded data removed]",
      "text/plain": [
       "<Figure size 1200x800 with 1 Axes>"
      ]
     },
     "metadata": {},
     "output_type": "display_data"
    }
   ],
   "source": [
    "# Crear un diccionario de colores y etiquetas para cada borough\n",
    "borough_colors = {'Staten Island': 'blue', 'Queens': 'red', 'Bronx': 'green',\n",
    "                  'Manhattan': 'purple', 'Brooklyn': 'orange', 'EWR': 'yellow'}\n",
    "\n",
    "borough_labels = {'Staten Island': 'Staten Island', 'Queens': 'Queens', 'Bronx': 'Bronx',\n",
    "                  'Manhattan': 'Manhattan', 'Brooklyn': 'Brooklyn','EWR': 'EWR'}\n",
    "\n",
    "# # Función para dibujar el mapa de regiones\n",
    "# def draw_region_map(ax, sf):\n",
    "#     # Leer el archivo shapefile\n",
    "#     sf_df = gpd.read_file(sf)\n",
    "\n",
    "#     # Asignar el color y etiqueta correctos a cada borough\n",
    "#     for i, borough in enumerate(df_loc['borough'].unique()):\n",
    "#         color = borough_colors[borough]\n",
    "#         label = borough_labels[borough]\n",
    "#         sf_df[sf_df['borough'] == borough].plot(ax=ax, color=color, edgecolor='black', label=label)\n",
    "\n",
    "#     ax.legend()\n",
    "\n",
    "#     # Configurar los ejes y la leyenda\n",
    "#     ax.set_axis_off()\n",
    "#     ax.set_aspect('equal')\n",
    "#     ax.legend(frameon=False, loc='lower center', bbox_to_anchor=(0.5, -0.05), ncol=5)\n",
    "\n",
    "# Dibujar el mapa de regiones\n",
    "fig, ax = plt.subplots(figsize=(12, 8))\n",
    "ax.set_title('Boroughs in NYC')\n",
    "draw_region_map(ax, sf)\n",
    "plt.show()\n"
   ]
  },
  {
   "cell_type": "code",
   "execution_count": 27,
   "metadata": {},
   "outputs": [
    {
     "ename": "IndexError",
     "evalue": "too many indices for array: array is 0-dimensional, but 2 were indexed",
     "output_type": "error",
     "traceback": [
      "\u001b[0;31m---------------------------------------------------------------------------\u001b[0m",
      "\u001b[0;31mIndexError\u001b[0m                                Traceback (most recent call last)",
      "Cell \u001b[0;32mIn[27], line 4\u001b[0m\n\u001b[1;32m      2\u001b[0m ax \u001b[39m=\u001b[39m plt\u001b[39m.\u001b[39msubplot(\u001b[39m1\u001b[39m, \u001b[39m2\u001b[39m, \u001b[39m1\u001b[39m)\n\u001b[1;32m      3\u001b[0m ax\u001b[39m.\u001b[39mset_title(\u001b[39m\"\u001b[39m\u001b[39mBoroughs in NYC\u001b[39m\u001b[39m\"\u001b[39m)\n\u001b[0;32m----> 4\u001b[0m draw_region_map(ax, sf)\n\u001b[1;32m      5\u001b[0m ax \u001b[39m=\u001b[39m plt\u001b[39m.\u001b[39msubplot(\u001b[39m1\u001b[39m, \u001b[39m2\u001b[39m, \u001b[39m2\u001b[39m)\n\u001b[1;32m      6\u001b[0m ax\u001b[39m.\u001b[39mset_title(\u001b[39m\"\u001b[39m\u001b[39mZones in NYC\u001b[39m\u001b[39m\"\u001b[39m)\n",
      "Cell \u001b[0;32mIn[25], line 37\u001b[0m, in \u001b[0;36mdraw_region_map\u001b[0;34m(ax, sf, heat)\u001b[0m\n\u001b[1;32m     35\u001b[0m \u001b[39mif\u001b[39;00m nparts \u001b[39m==\u001b[39m \u001b[39m1\u001b[39m:\n\u001b[1;32m     36\u001b[0m     polygon \u001b[39m=\u001b[39m Polygon(shape\u001b[39m.\u001b[39mpoints)\n\u001b[0;32m---> 37\u001b[0m     patch \u001b[39m=\u001b[39m PolygonPatch(polygon, facecolor\u001b[39m=\u001b[39;49mcol, alpha\u001b[39m=\u001b[39;49m\u001b[39m1.0\u001b[39;49m, zorder\u001b[39m=\u001b[39;49m\u001b[39m2\u001b[39;49m)\n\u001b[1;32m     38\u001b[0m     ax\u001b[39m.\u001b[39madd_patch(patch)\n\u001b[1;32m     39\u001b[0m \u001b[39melse\u001b[39;00m: \u001b[39m# loop over parts of each shape, plot separately\u001b[39;00m\n",
      "File \u001b[0;32m/Library/Frameworks/Python.framework/Versions/3.10/lib/python3.10/site-packages/descartes/patch.py:87\u001b[0m, in \u001b[0;36mPolygonPatch\u001b[0;34m(polygon, **kwargs)\u001b[0m\n\u001b[1;32m     73\u001b[0m \u001b[39mdef\u001b[39;00m \u001b[39mPolygonPatch\u001b[39m(polygon, \u001b[39m*\u001b[39m\u001b[39m*\u001b[39mkwargs):\n\u001b[1;32m     74\u001b[0m \u001b[39m    \u001b[39m\u001b[39m\"\"\"Constructs a matplotlib patch from a geometric object\u001b[39;00m\n\u001b[1;32m     75\u001b[0m \n\u001b[1;32m     76\u001b[0m \u001b[39m    The `polygon` may be a Shapely or GeoJSON-like object with or without holes.\u001b[39;00m\n\u001b[0;32m   (...)\u001b[0m\n\u001b[1;32m     85\u001b[0m \n\u001b[1;32m     86\u001b[0m \u001b[39m    \"\"\"\u001b[39;00m\n\u001b[0;32m---> 87\u001b[0m     \u001b[39mreturn\u001b[39;00m PathPatch(PolygonPath(polygon), \u001b[39m*\u001b[39m\u001b[39m*\u001b[39mkwargs)\n",
      "File \u001b[0;32m/Library/Frameworks/Python.framework/Versions/3.10/lib/python3.10/site-packages/descartes/patch.py:62\u001b[0m, in \u001b[0;36mPolygonPath\u001b[0;34m(polygon)\u001b[0m\n\u001b[1;32m     58\u001b[0m     \u001b[39melse\u001b[39;00m:\n\u001b[1;32m     59\u001b[0m         \u001b[39mraise\u001b[39;00m \u001b[39mValueError\u001b[39;00m(\n\u001b[1;32m     60\u001b[0m             \u001b[39m\"\u001b[39m\u001b[39mA polygon or multi-polygon representation is required\u001b[39m\u001b[39m\"\u001b[39m)\n\u001b[0;32m---> 62\u001b[0m vertices \u001b[39m=\u001b[39m concatenate([\n\u001b[1;32m     63\u001b[0m     concatenate([asarray(t\u001b[39m.\u001b[39mexterior)[:, :\u001b[39m2\u001b[39m]] \u001b[39m+\u001b[39m\n\u001b[1;32m     64\u001b[0m                 [asarray(r)[:, :\u001b[39m2\u001b[39m] \u001b[39mfor\u001b[39;00m r \u001b[39min\u001b[39;00m t\u001b[39m.\u001b[39minteriors])\n\u001b[1;32m     65\u001b[0m     \u001b[39mfor\u001b[39;00m t \u001b[39min\u001b[39;00m polygon])\n\u001b[1;32m     66\u001b[0m codes \u001b[39m=\u001b[39m concatenate([\n\u001b[1;32m     67\u001b[0m     concatenate([coding(t\u001b[39m.\u001b[39mexterior)] \u001b[39m+\u001b[39m\n\u001b[1;32m     68\u001b[0m                 [coding(r) \u001b[39mfor\u001b[39;00m r \u001b[39min\u001b[39;00m t\u001b[39m.\u001b[39minteriors]) \u001b[39mfor\u001b[39;00m t \u001b[39min\u001b[39;00m polygon])\n\u001b[1;32m     70\u001b[0m \u001b[39mreturn\u001b[39;00m Path(vertices, codes)\n",
      "File \u001b[0;32m/Library/Frameworks/Python.framework/Versions/3.10/lib/python3.10/site-packages/descartes/patch.py:63\u001b[0m, in \u001b[0;36m<listcomp>\u001b[0;34m(.0)\u001b[0m\n\u001b[1;32m     58\u001b[0m     \u001b[39melse\u001b[39;00m:\n\u001b[1;32m     59\u001b[0m         \u001b[39mraise\u001b[39;00m \u001b[39mValueError\u001b[39;00m(\n\u001b[1;32m     60\u001b[0m             \u001b[39m\"\u001b[39m\u001b[39mA polygon or multi-polygon representation is required\u001b[39m\u001b[39m\"\u001b[39m)\n\u001b[1;32m     62\u001b[0m vertices \u001b[39m=\u001b[39m concatenate([\n\u001b[0;32m---> 63\u001b[0m     concatenate([asarray(t\u001b[39m.\u001b[39;49mexterior)[:, :\u001b[39m2\u001b[39;49m]] \u001b[39m+\u001b[39m\n\u001b[1;32m     64\u001b[0m                 [asarray(r)[:, :\u001b[39m2\u001b[39m] \u001b[39mfor\u001b[39;00m r \u001b[39min\u001b[39;00m t\u001b[39m.\u001b[39minteriors])\n\u001b[1;32m     65\u001b[0m     \u001b[39mfor\u001b[39;00m t \u001b[39min\u001b[39;00m polygon])\n\u001b[1;32m     66\u001b[0m codes \u001b[39m=\u001b[39m concatenate([\n\u001b[1;32m     67\u001b[0m     concatenate([coding(t\u001b[39m.\u001b[39mexterior)] \u001b[39m+\u001b[39m\n\u001b[1;32m     68\u001b[0m                 [coding(r) \u001b[39mfor\u001b[39;00m r \u001b[39min\u001b[39;00m t\u001b[39m.\u001b[39minteriors]) \u001b[39mfor\u001b[39;00m t \u001b[39min\u001b[39;00m polygon])\n\u001b[1;32m     70\u001b[0m \u001b[39mreturn\u001b[39;00m Path(vertices, codes)\n",
      "\u001b[0;31mIndexError\u001b[0m: too many indices for array: array is 0-dimensional, but 2 were indexed"
     ]
    },
    {
     "data": {
      "image/png": "[encoded data removed]",
      "text/plain": [
       "<Figure size 1500x800 with 2 Axes>"
      ]
     },
     "metadata": {},
     "output_type": "display_data"
    }
   ],
   "source": [
    "fig, ax = plt.subplots(nrows=1, ncols=2, figsize=(15,8))\n",
    "ax = plt.subplot(1, 2, 1)\n",
    "ax.set_title(\"Boroughs in NYC\")\n",
    "draw_region_map(ax, sf)\n",
    "ax = plt.subplot(1, 2, 2)\n",
    "ax.set_title(\"Zones in NYC\")\n",
    "draw_zone_map(ax, sf)"
   ]
  },
  {
   "cell_type": "code",
   "execution_count": null,
   "metadata": {},
   "outputs": [],
   "source": []
  },
  {
   "cell_type": "markdown",
   "metadata": {},
   "source": [
    "# III Functions"
   ]
  },
  {
   "cell_type": "code",
   "execution_count": null,
   "metadata": {},
   "outputs": [],
   "source": [
    "def get_lat_lon(sf):\n",
    "    content = []\n",
    "    for sr in sf.shapeRecords():\n",
    "        shape = sr.shape\n",
    "        rec = sr.record\n",
    "        loc_id = rec[shp_dic['LocationID']]\n",
    "        \n",
    "        x = (shape.bbox[0]+shape.bbox[2])/2\n",
    "        y = (shape.bbox[1]+shape.bbox[3])/2\n",
    "        \n",
    "        content.append((loc_id, x, y))\n",
    "    return pd.DataFrame(content, columns=[\"LocationID\", \"longitude\", \"latitude\"])"
   ]
  },
  {
   "cell_type": "code",
   "execution_count": null,
   "metadata": {},
   "outputs": [],
   "source": [
    "def get_boundaries(sf):\n",
    "    lat, lon = [], []\n",
    "    for shape in list(sf.iterShapes()):\n",
    "        lat.extend([shape.bbox[0], shape.bbox[2]])\n",
    "        lon.extend([shape.bbox[1], shape.bbox[3]])\n",
    "\n",
    "    margin = 0.01 # buffer to add to the range\n",
    "    lat_min = min(lat) - margin\n",
    "    lat_max = max(lat) + margin\n",
    "    lon_min = min(lon) - margin\n",
    "    lon_max = max(lon) + margin\n",
    "\n",
    "    return lat_min, lat_max, lon_min, lon_max"
   ]
  },
  {
   "cell_type": "code",
   "execution_count": null,
   "metadata": {},
   "outputs": [],
   "source": [
    "def draw_region_map(ax, sf, heat={}):\n",
    "    continent = [235/256, 151/256, 78/256]\n",
    "    ocean = (89/256, 171/256, 227/256)    \n",
    "    \n",
    "    reg_list={'Staten Island':1, 'Queens':2, 'Bronx':3, 'Manhattan':4, 'EWR':5, 'Brooklyn':6}\n",
    "    reg_x = {'Staten Island':[], 'Queens':[], 'Bronx':[], 'Manhattan':[], 'EWR':[], 'Brooklyn':[]}\n",
    "    reg_y = {'Staten Island':[], 'Queens':[], 'Bronx':[], 'Manhattan':[], 'EWR':[], 'Brooklyn':[]}\n",
    "    \n",
    "    # colorbar\n",
    "    if len(heat) != 0:\n",
    "        norm = mpl.colors.Normalize(vmin=math.sqrt(min(heat.values())), vmax=math.sqrt(max(heat.values()))) #norm = mpl.colors.LogNorm(vmin=1,vmax=max(heat))\n",
    "        cm=plt.get_cmap('Reds')\n",
    "        #sm = plt.cm.ScalarMappable(cmap=cm, norm=norm)\n",
    "        #sm.set_array([])\n",
    "        #plt.colorbar(sm, ticks=np.linspace(min(heat.values()),max(heat.values()),8), \\\n",
    "        #             boundaries=np.arange(min(heat.values())-10,max(heat.values())+10,.1))\n",
    "    \n",
    "    ax.set_facecolor(ocean)\n",
    "    for sr in sf.shapeRecords():\n",
    "        shape = sr.shape\n",
    "        rec = sr.record\n",
    "        reg_name = rec[shp_dic['borough']]\n",
    "        \n",
    "        if len(heat) == 0:\n",
    "            norm = mpl.colors.Normalize(vmin=1,vmax=6) #norm = mpl.colors.LogNorm(vmin=1,vmax=max(heat))\n",
    "            cm=plt.get_cmap('Pastel1')\n",
    "            R,G,B,A = cm(norm(reg_list[reg_name]))\n",
    "            col = [R,G,B]\n",
    "        else:\n",
    "            R,G,B,A = cm(norm(math.sqrt(heat[reg_name])))\n",
    "            col = [R,G,B]\n",
    "            \n",
    "        # check number of parts (could use MultiPolygon class of shapely?)\n",
    "        nparts = len(shape.parts) # total parts\n",
    "        if nparts == 1:\n",
    "            polygon = Polygon(shape.points)\n",
    "            patch = PolygonPatch(polygon, facecolor=col, alpha=1.0, zorder=2)\n",
    "            ax.add_patch(patch)\n",
    "        else: # loop over parts of each shape, plot separately\n",
    "            for ip in range(nparts): # loop over parts, plot separately\n",
    "                i0 = shape.parts[ip]\n",
    "                if ip < nparts-1:\n",
    "                    i1 = shape.parts[ip+1]-1\n",
    "                else:\n",
    "                    i1 = len(shape.points)\n",
    "\n",
    "                polygon = Polygon(shape.points[i0:i1+1])\n",
    "                patch = PolygonPatch(polygon, facecolor=col, alpha=1.0, zorder=2)\n",
    "                ax.add_patch(patch)\n",
    "                \n",
    "        reg_x[reg_name].append((shape.bbox[0]+shape.bbox[2])/2)\n",
    "        reg_y[reg_name].append((shape.bbox[1]+shape.bbox[3])/2)\n",
    "        \n",
    "    for k in reg_list:\n",
    "        if len(heat)==0:\n",
    "            plt.text(np.mean(reg_x[k]), np.mean(reg_y[k]), k, horizontalalignment='center', verticalalignment='center',\n",
    "                        bbox=dict(facecolor='black', alpha=0.5), color=\"white\", fontsize=12)     \n",
    "        else:\n",
    "            plt.text(np.mean(reg_x[k]), np.mean(reg_y[k]), \"{}\\n({}K)\".format(k, heat[k]/1000), horizontalalignment='center', \n",
    "                     verticalalignment='center',bbox=dict(facecolor='black', alpha=0.5), color=\"white\", fontsize=12)       \n",
    "\n",
    "    # display\n",
    "    limits = get_boundaries(sf)\n",
    "    plt.xlim(limits[0], limits[1])\n",
    "    plt.ylim(limits[2], limits[3])"
   ]
  },
  {
   "cell_type": "code",
   "execution_count": null,
   "metadata": {},
   "outputs": [],
   "source": [
    "def draw_zone_map(ax, sf, heat={}, text=[], arrows=[]):\n",
    "    continent = [235/256, 151/256, 78/256]\n",
    "    ocean = (89/256, 171/256, 227/256)\n",
    "    theta = np.linspace(0, 2*np.pi, len(text)+1).tolist()\n",
    "    ax.set_facecolor(ocean)\n",
    "    \n",
    "    # colorbar\n",
    "    if len(heat) != 0:\n",
    "        norm = mpl.colors.Normalize(vmin=min(heat.values()),vmax=max(heat.values())) #norm = mpl.colors.LogNorm(vmin=1,vmax=max(heat))\n",
    "        cm=plt.get_cmap('Reds')\n",
    "        sm = plt.cm.ScalarMappable(cmap=cm, norm=norm)\n",
    "        sm.set_array([])\n",
    "        plt.colorbar(sm, ticks=np.linspace(min(heat.values()),max(heat.values()),8),\n",
    "                     boundaries=np.arange(min(heat.values())-10,max(heat.values())+10,.1))\n",
    "    \n",
    "    for sr in sf.shapeRecords():\n",
    "        shape = sr.shape\n",
    "        rec = sr.record\n",
    "        loc_id = rec[shp_dic['LocationID']]\n",
    "        zone = rec[shp_dic['zone']]\n",
    "        \n",
    "        if len(heat) == 0:\n",
    "            col = continent\n",
    "        else:\n",
    "            if loc_id not in heat:\n",
    "                R,G,B,A = cm(norm(0))\n",
    "            else:\n",
    "                R,G,B,A = cm(norm(heat[loc_id]))\n",
    "            col = [R,G,B]\n",
    "\n",
    "        # check number of parts (could use MultiPolygon class of shapely?)\n",
    "        nparts = len(shape.parts) # total parts\n",
    "        if nparts == 1:\n",
    "            polygon = Polygon(shape.points)\n",
    "            patch = PolygonPatch(polygon, facecolor=col, alpha=1.0, zorder=2)\n",
    "            ax.add_patch(patch)\n",
    "        else: # loop over parts of each shape, plot separately\n",
    "            for ip in range(nparts): # loop over parts, plot separately\n",
    "                i0 = shape.parts[ip]\n",
    "                if ip < nparts-1:\n",
    "                    i1 = shape.parts[ip+1]-1\n",
    "                else:\n",
    "                    i1 = len(shape.points)\n",
    "\n",
    "                polygon = Polygon(shape.points[i0:i1+1])\n",
    "                patch = PolygonPatch(polygon, facecolor=col, alpha=1.0, zorder=2)\n",
    "                ax.add_patch(patch)\n",
    "        \n",
    "        x = (shape.bbox[0]+shape.bbox[2])/2\n",
    "        y = (shape.bbox[1]+shape.bbox[3])/2\n",
    "        if (len(text) == 0 and rec[shp_dic['Shape_Area']] > 0.0001):\n",
    "            plt.text(x, y, str(loc_id), horizontalalignment='center', verticalalignment='center')            \n",
    "        elif len(text) != 0 and loc_id in text:\n",
    "            #plt.text(x+0.01, y-0.01, str(loc_id), fontsize=12, color=\"white\", bbox=dict(facecolor='black', alpha=0.5))\n",
    "            eta_x = 0.05*np.cos(theta[text.index(loc_id)])\n",
    "            eta_y = 0.05*np.sin(theta[text.index(loc_id)])\n",
    "            ax.annotate(\"[{}] {}\".format(loc_id, zone), xy=(x, y), xytext=(x+eta_x, y+eta_y),\n",
    "                        bbox=dict(facecolor='black', alpha=0.5), color=\"white\", fontsize=12,\n",
    "                        arrowprops=dict(facecolor='black', width=3, shrink=0.05))\n",
    "    if len(arrows)!=0:\n",
    "        for arr in arrows:\n",
    "            ax.annotate('', xy = arr['dest'], xytext = arr['src'], size = arr['cnt'],\n",
    "                    arrowprops=dict(arrowstyle=\"fancy\", fc=\"0.6\", ec=\"none\"))\n",
    "    \n",
    "    # display\n",
    "    limits = get_boundaries(sf)\n",
    "    plt.xlim(limits[0], limits[1])\n",
    "    plt.ylim(limits[2], limits[3])"
   ]
  }
 ],
 "metadata": {
  "kernelspec": {
   "display_name": "Python 3",
   "language": "python",
   "name": "python3"
  },
  "language_info": {
   "codemirror_mode": {
    "name": "ipython",
    "version": 3
   },
   "file_extension": ".py",
   "mimetype": "text/x-python",
   "name": "python",
   "nbconvert_exporter": "python",
   "pygments_lexer": "ipython3",
   "version": "3.10.10"
  },
  "orig_nbformat": 4
 },
 "nbformat": 4,
 "nbformat_minor": 2
}
